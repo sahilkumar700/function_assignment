{
 "cells": [
  {
   "cell_type": "code",
   "execution_count": null,
   "id": "e4e76e2d-ee36-47b1-9eb7-edc53320fc83",
   "metadata": {},
   "outputs": [],
   "source": [
    " 1. What is the difference between a function and a method in Python?"
   ]
  },
  {
   "cell_type": "code",
   "execution_count": null,
   "id": "0fcb1e90-57de-4f37-bb73-ba6cf9e9b9f8",
   "metadata": {},
   "outputs": [],
   "source": [
    "In Python, the main difference between a function and a method is:\n",
    "A function is a block of code that is defined using the def keyword and can be called independently. It is not bound to any object."
   ]
  },
  {
   "cell_type": "code",
   "execution_count": null,
   "id": "cf9d4905-db4b-42f6-9cfb-a74b6afd94ff",
   "metadata": {},
   "outputs": [],
   "source": [
    "def greet(name):\n",
    "    return f\"Hello, {name}!\"\n"
   ]
  },
  {
   "cell_type": "code",
   "execution_count": null,
   "id": "33f5f709-2e17-4bd8-910b-b21c69be3d25",
   "metadata": {},
   "outputs": [],
   "source": [
    "A method is a function that is associated with an object or class. It is called on an instance of the object, and it usually operates \n",
    "on the data contained in that object. "
   ]
  },
  {
   "cell_type": "code",
   "execution_count": null,
   "id": "df95d164-3b17-45a0-b4bc-926471902d1f",
   "metadata": {},
   "outputs": [],
   "source": [
    "class Person:\n",
    "    def greet(self, name):\n",
    "        return f\"Hello, {name}!\"\n",
    "\n",
    "p = Person()\n",
    "p.greet(\"Sahil\") \n"
   ]
  },
  {
   "cell_type": "code",
   "execution_count": null,
   "id": "1b0429ba-9062-40b7-a3cb-73ebd845e908",
   "metadata": {},
   "outputs": [],
   "source": [
    " 2. Explain the concept of function arguments and parameters in Python."
   ]
  },
  {
   "cell_type": "code",
   "execution_count": null,
   "id": "e447b828-cb91-4a37-a3bf-a591fd5d466c",
   "metadata": {},
   "outputs": [],
   "source": [
    "In Python, parameters and arguments are related but distinct concepts:\n",
    "Parameters are the variables listed in a function's definition. They act as placeholders that accept values when the function is called. "
   ]
  },
  {
   "cell_type": "code",
   "execution_count": null,
   "id": "73f4c26e-517b-49f7-afd6-4783209d22c4",
   "metadata": {},
   "outputs": [],
   "source": [
    "def greet(name):  # 'name' is the parameter\n",
    "    return f\"Hello, {name}!\"\n"
   ]
  },
  {
   "cell_type": "code",
   "execution_count": null,
   "id": "64853a22-2cb7-46be-9d5a-070b557fe22c",
   "metadata": {},
   "outputs": [],
   "source": [
    "Arguments are the actual values or data you pass to the function when calling it. These values are assigned to the function's parameters."
   ]
  },
  {
   "cell_type": "code",
   "execution_count": null,
   "id": "9b4251d1-bbbd-4d36-939e-b75f25babdd5",
   "metadata": {},
   "outputs": [],
   "source": [
    "greet(\"Sahil\")  "
   ]
  },
  {
   "cell_type": "code",
   "execution_count": null,
   "id": "d0e58f25-1ace-4eab-b50f-ff69c09f3e2b",
   "metadata": {},
   "outputs": [],
   "source": [
    " 3. What are the different ways to define and call a function in Python?"
   ]
  },
  {
   "cell_type": "code",
   "execution_count": null,
   "id": "c15a8477-4317-432a-8ddc-c9894ea96e9d",
   "metadata": {},
   "outputs": [],
   "source": [
    "In Python, you can define and call a function in several ways:\n",
    "Defining and Calling a Regular Function\n",
    "Definition: Using the def keyword.\n",
    "Call: By using the function name followed by parentheses."
   ]
  },
  {
   "cell_type": "code",
   "execution_count": null,
   "id": "22566d70-963e-423c-8da8-3ac4e82d720b",
   "metadata": {},
   "outputs": [],
   "source": [
    "def greet(name):\n",
    "    return f\"Hello, {name}!\"\n",
    "greet(\"sahil\")  "
   ]
  },
  {
   "cell_type": "code",
   "execution_count": null,
   "id": "3f08afac-093f-4a7f-b132-e5d064ae60d5",
   "metadata": {},
   "outputs": [],
   "source": [
    "Defining and Calling a Lambda Function (Anonymous Function)\n",
    "Definition: A small, unnamed function using the lambda keyword.\n",
    "Call: It is called inline, typically in expressions."
   ]
  },
  {
   "cell_type": "code",
   "execution_count": null,
   "id": "d69960ef-d48e-418d-b082-5dc97fbb00ba",
   "metadata": {},
   "outputs": [],
   "source": [
    "greet = lambda name: f\"Hello, {name}!\"\n",
    "greet(\"sahil\")  "
   ]
  },
  {
   "cell_type": "code",
   "execution_count": null,
   "id": "4ee2024c-0a87-48c6-a6b6-7bac014870ac",
   "metadata": {},
   "outputs": [],
   "source": [
    " Defining and Calling a Function with Variable-Length Arguments\n",
    "Definition: Functions that accept an arbitrary number of arguments using *args or **kwargs.\n",
    "Call: Pass any number of arguments to the function."
   ]
  },
  {
   "cell_type": "code",
   "execution_count": null,
   "id": "d91017ec-b11f-42e9-b251-7e5cb50aa585",
   "metadata": {},
   "outputs": [],
   "source": [
    "def greet(*names):\n",
    "    return ', '.join(names)\n",
    "\n",
    "greet(\"sahil\", \"Bob\", \"Charlie\") "
   ]
  },
  {
   "cell_type": "code",
   "execution_count": null,
   "id": "ed568fe0-ad39-4715-909d-1fc3583f7539",
   "metadata": {},
   "outputs": [],
   "source": [
    " 4. What is the purpose of the `return` statement in a Python function?"
   ]
  },
  {
   "cell_type": "code",
   "execution_count": null,
   "id": "4f94b627-f8cd-4826-b126-c440677ed7d0",
   "metadata": {},
   "outputs": [],
   "source": [
    "The return statement in a Python function is used to send back a result from the function to the caller.\n",
    "It terminates the function's execution and passes a value (or no value) to the place where the function was called.\n",
    "If a value is provided after return, that value is returned.\n",
    "If no value is provided, the function returns None by default."
   ]
  },
  {
   "cell_type": "code",
   "execution_count": null,
   "id": "e0cf1097-058e-42f8-80c2-82e5ff4eae9f",
   "metadata": {},
   "outputs": [],
   "source": [
    "def add(a, b):\n",
    "    return a + b  \n",
    "result = add(2, 3) "
   ]
  },
  {
   "cell_type": "code",
   "execution_count": null,
   "id": "5c696598-aede-4cb7-98f2-612f93f911a5",
   "metadata": {},
   "outputs": [],
   "source": [
    "result"
   ]
  },
  {
   "cell_type": "code",
   "execution_count": null,
   "id": "d7753253-cb1f-442a-a541-bd15dc3d5d58",
   "metadata": {},
   "outputs": [],
   "source": [
    " 5. What are iterators in Python and how do they differ from iterables?"
   ]
  },
  {
   "cell_type": "code",
   "execution_count": null,
   "id": "a5924147-6537-4961-90c2-4049382c4d8b",
   "metadata": {},
   "outputs": [],
   "source": [
    "Iterables:\n",
    "An iterable is any object that can be looped over (iterated) using a for loop. Iterables implement the __iter__() method\n",
    "or have an __iter__() method that returns an iterator.\n",
    "\n",
    "Examples: Lists, tuples, strings, dictionaries, sets, etc.\n",
    "\n",
    "Iterators:\n",
    "An iterator is an object that represents a stream of data. It is an iterable that has already been \"activated\" to\n",
    "produce values one at a time. Iterators implement two methods:\n",
    "\n",
    "__iter__() (returns the iterator object itself)\n",
    "__next__() (returns the next value in the sequence)\n",
    "\n",
    "Difference:\n",
    "Iterable: An object that can return an iterator (can be looped over).\n",
    "Iterator: An object that keeps track of the current state and produces the next value when __next__() is called."
   ]
  },
  {
   "cell_type": "code",
   "execution_count": null,
   "id": "357847c5-4114-420c-b159-ee36750fd2b8",
   "metadata": {},
   "outputs": [],
   "source": [
    " 6. Explain the concept of generators in Python and how they are defined."
   ]
  },
  {
   "cell_type": "code",
   "execution_count": null,
   "id": "3e5c92ed-53b8-49f1-96a0-1ad117a6f2c5",
   "metadata": {},
   "outputs": [],
   "source": [
    "In Python, generators are a type of iterable that allows you to iterate over a sequence of values lazily (one value at a time), without storing the entire \n",
    "sequence in memory. They are defined using functions with the yield keyword instead of return.\n",
    "\n",
    "Key Points:\n",
    "yield: Used inside a function to produce a value. When the function is called, it returns a generator object that can be iterated over.\n",
    "Lazy Evaluation: A generator produces values on the fly, which makes it memory-efficient, especially for large data sets.\n",
    "State Retention: A generator \"remembers\" its state between iterations, so it picks up where it left off after each yield."
   ]
  },
  {
   "cell_type": "code",
   "execution_count": null,
   "id": "7b271aa7-1ce7-49a0-b5ef-7a8acd79e25e",
   "metadata": {},
   "outputs": [],
   "source": [
    "def count_up_to(limit):\n",
    "    count = 1\n",
    "    while count <= limit:\n",
    "        yield count  # Yield the current value\n",
    "        count += 1\n",
    "\n",
    "# Create a generator\n",
    "counter = count_up_to(3)\n",
    "\n",
    "# Iterate over the generator\n",
    "for num in counter:\n",
    "    print(num)  # Output: 1, 2, 3\n"
   ]
  },
  {
   "cell_type": "code",
   "execution_count": null,
   "id": "dfedf782-27ee-4087-a5a4-646078286b4a",
   "metadata": {},
   "outputs": [],
   "source": [
    " 7. What are the advantages of using generators over regular functions?"
   ]
  },
  {
   "cell_type": "code",
   "execution_count": null,
   "id": "6a8fbb70-1e48-44b7-bed6-96b1425fbaf8",
   "metadata": {},
   "outputs": [],
   "source": [
    "The advantages of using generators over regular functions are:\n",
    "\n",
    "Memory Efficiency: Generators produce values one at a time and do not store the entire sequence in memory, making them more \n",
    "memory-efficient, especially for large datasets.\n",
    "\n",
    "Lazy Evaluation: Values are generated on-demand, meaning you don't compute all results upfront. This can improve\n",
    "performance when only part of the sequence is needed.\n",
    "\n",
    "State Retention: Generators automatically maintain their state between iterations, so you don’t need to manage it manually,\n",
    "unlike a regular function which would need to return all values at once.\n",
    "\n",
    "Simpler Code: Using yield simplifies the implementation of iterators without the need for explicit classes or complex loops."
   ]
  },
  {
   "cell_type": "code",
   "execution_count": null,
   "id": "38e746f4-aaef-45a2-8778-8c50349ba81e",
   "metadata": {},
   "outputs": [],
   "source": [
    " 8. What is a lambda function in Python and when is it typically used?"
   ]
  },
  {
   "cell_type": "code",
   "execution_count": null,
   "id": "d9720f54-f067-4a09-bb79-cd1584aebb9d",
   "metadata": {},
   "outputs": [],
   "source": [
    "A lambda function in Python is a small, anonymous function defined using the lambda keyword. It can take any number of arguments but can only have one expression. \n",
    "The result of the expression is automatically returned."
   ]
  },
  {
   "cell_type": "code",
   "execution_count": null,
   "id": "eeaf0851-ea7b-438e-83ef-0e8779888ed3",
   "metadata": {},
   "outputs": [],
   "source": [
    "add = lambda x, y: x + y\n",
    "print(add(3, 5)) "
   ]
  },
  {
   "cell_type": "code",
   "execution_count": null,
   "id": "957327f6-99db-4b40-b42c-fc99427e042f",
   "metadata": {},
   "outputs": [],
   "source": [
    "When to Use:\n",
    "Short Functions: When you need a simple, one-line function for short-term use.\n",
    "Passing Functions as Arguments: Often used in functions like map(), filter(), and sorted() where you need a quick function to apply to each item in a sequence.\n",
    "Inline Function Definitions: Used when you don't want to formally define a function using def."
   ]
  },
  {
   "cell_type": "code",
   "execution_count": null,
   "id": "a6b461a0-f810-4415-8710-ae8d0f02fad7",
   "metadata": {},
   "outputs": [],
   "source": [
    "pairs = [(1, 2), (3, 1), (5, 4)]\n",
    "sorted_pairs = sorted(pairs, key=lambda x: x[1])  \n",
    "print(sorted_pairs) "
   ]
  },
  {
   "cell_type": "code",
   "execution_count": null,
   "id": "79d20db2-d178-43f4-aabb-07922b3c721a",
   "metadata": {},
   "outputs": [],
   "source": [
    " 9. Explain the purpose and usage of the `map()` function in Python."
   ]
  },
  {
   "cell_type": "code",
   "execution_count": null,
   "id": "459042ed-8e8d-407e-82c4-439081f7f333",
   "metadata": {},
   "outputs": [],
   "source": [
    "The map() function in Python is used to apply a given function to each item in an iterable (like a list, tuple, etc.) and return an iterator \n",
    "that produces the results. It is often used when you need to perform a transformation on all items in a collection.\n",
    "syntax:\n",
    "map(function, iterable)\n",
    "function: A function to apply to each item of the iterable.\n",
    "iterable: The iterable whose items will be transformed by the function."
   ]
  },
  {
   "cell_type": "code",
   "execution_count": null,
   "id": "f84d5674-c9e5-4bfe-a5f3-79bf722ecfe5",
   "metadata": {},
   "outputs": [],
   "source": [
    "numbers = [1, 2, 3, 4]\n",
    "squared = map(lambda x: x**2, numbers) \n",
    "print(list(squared))  "
   ]
  },
  {
   "cell_type": "code",
   "execution_count": null,
   "id": "14ccbd14-0590-42a9-8432-9e3bd1e12a34",
   "metadata": {},
   "outputs": [],
   "source": [
    "Usage:\n",
    "Transforming data: Apply a transformation to all elements in an iterable.\n",
    "Using functions or lambdas: Often used with functions or lambda functions for concise transformations."
   ]
  },
  {
   "cell_type": "code",
   "execution_count": null,
   "id": "3fffa452-6185-4b45-a237-7b2b2a4d3d3a",
   "metadata": {},
   "outputs": [],
   "source": [
    " 10. What is the difference between `map()`, `reduce()`, and `filter()` functions in Python?"
   ]
  },
  {
   "cell_type": "code",
   "execution_count": null,
   "id": "80f758c6-7df9-4cb6-b6c8-669a0e1b7128",
   "metadata": {},
   "outputs": [],
   "source": [
    "In Python, map(), reduce(), and filter() are all higher-order functions used to process iterables, but they have different purposes and behavior:\n",
    "\n",
    "1. map():\n",
    "Purpose: Applies a given function to each item in an iterable and returns an iterator of the results.\n",
    "Usage: Used for transforming data.\n",
    "\n",
    "2. reduce() (from functools):\n",
    "Purpose: Applies a binary function (a function that takes two arguments) cumulatively to the items in an iterable, reducing it to a single value.\n",
    "Usage: Used for aggregating or combining items into a single result.\n",
    "\n",
    "3. filter():\n",
    "Purpose: Filters items in an iterable by applying a function that returns a boolean. Only items for which the function returns True are included.\n",
    "Usage: Used for filtering data based on a condition."
   ]
  },
  {
   "cell_type": "code",
   "execution_count": null,
   "id": "4db92d7e-ef33-432e-99df-ed4593b72595",
   "metadata": {},
   "outputs": [],
   "source": [
    "11. Using pen & Paper write the internal mechanism for sum operation using  reduce function on this given list:[47,11,42,13]"
   ]
  },
  {
   "cell_type": "code",
   "execution_count": null,
   "id": "76d709c0-ecde-4f19-98b5-3b655354f290",
   "metadata": {},
   "outputs": [],
   "source": []
  },
  {
   "cell_type": "code",
   "execution_count": null,
   "id": "c1178f48-b398-48a9-9b24-140bc35033cf",
   "metadata": {},
   "outputs": [],
   "source": [
    "practical question:"
   ]
  },
  {
   "cell_type": "code",
   "execution_count": null,
   "id": "8b200a2a-5c73-49e4-bf99-9fc64b4190a1",
   "metadata": {},
   "outputs": [],
   "source": [
    " 1. Write a Python function that takes a list of numbers as input and returns the sum of all even numbers in \n",
    "the list."
   ]
  },
  {
   "cell_type": "code",
   "execution_count": null,
   "id": "976592a6-ef36-4f3e-996e-b5e0865c9d41",
   "metadata": {},
   "outputs": [],
   "source": [
    "def sum_even_numbers(numbers):\n",
    "    return sum(num for num in numbers if num % 2 == 0)\n",
    "\n",
    "\n",
    "numbers = [47, 11, 42, 13, 8, 10]\n",
    "result = sum_even_numbers(numbers)\n",
    "print(\"Sum of even numbers:\", result)\n"
   ]
  },
  {
   "cell_type": "code",
   "execution_count": null,
   "id": "e8998889-387d-4af5-88b7-3267ca74a948",
   "metadata": {},
   "outputs": [],
   "source": [
    " 2. Create a Python function that accepts a string and returns the reverse of that string."
   ]
  },
  {
   "cell_type": "code",
   "execution_count": null,
   "id": "8096cff3-fa0d-467c-b8d6-2d148558ddbf",
   "metadata": {},
   "outputs": [],
   "source": [
    "def reverse_string(s):\n",
    "    return s[::-1]\n",
    "\n",
    "\n",
    "input_string = \"Hello, World!\"\n",
    "reversed_string = reverse_string(input_string)\n",
    "print(\"Reversed string:\", reversed_string)\n"
   ]
  },
  {
   "cell_type": "code",
   "execution_count": null,
   "id": "c3d81a0e-2e09-4f81-87bc-7741212abee1",
   "metadata": {},
   "outputs": [],
   "source": [
    " 3. Implement a Python function that takes a list of integers and returns a new list containing the squares of \n",
    "each number."
   ]
  },
  {
   "cell_type": "code",
   "execution_count": null,
   "id": "fc13b7c2-405e-4372-a232-254934c9117d",
   "metadata": {},
   "outputs": [],
   "source": [
    "def square_numbers(numbers):\n",
    "    return [num ** 2 for num in numbers]\n",
    "\n",
    "\n",
    "input_numbers = [1, 2, 3, 4, 5]\n",
    "squared_numbers = square_numbers(input_numbers)\n",
    "print(\"Squared numbers:\", squared_numbers)\n"
   ]
  },
  {
   "cell_type": "code",
   "execution_count": null,
   "id": "1677865d-7ac3-4f9f-ac9e-593a103aba30",
   "metadata": {},
   "outputs": [],
   "source": [
    " 4. Write a Python function that checks if a given number is prime or not from 1 to 200."
   ]
  },
  {
   "cell_type": "code",
   "execution_count": null,
   "id": "a2b54174-5318-4d42-9b9e-b0191b8e15cb",
   "metadata": {},
   "outputs": [],
   "source": [
    "def is_prime(num):\n",
    "    if num < 2:\n",
    "        return False\n",
    "    for i in range(2, int(num ** 0.5) + 1):\n",
    "        if num % i == 0:\n",
    "            return False\n",
    "    return True\n",
    "\n",
    "\n",
    "for number in range(1, 201):\n",
    "    if is_prime(number):\n",
    "        print(number, \"is prime\")\n"
   ]
  },
  {
   "cell_type": "code",
   "execution_count": null,
   "id": "1284d0b4-7b27-43c1-a3e4-c6db002afd9c",
   "metadata": {},
   "outputs": [],
   "source": [
    " 5. Create an iterator class in Python that generates the Fibonacci sequence up to a specified number of \n",
    "terms."
   ]
  },
  {
   "cell_type": "code",
   "execution_count": null,
   "id": "8b9af9de-6131-45f9-bbf3-23dccc3766ff",
   "metadata": {},
   "outputs": [],
   "source": [
    "class FibonacciIterator:\n",
    "    def __init__(self, n):\n",
    "        self.n = n \n",
    "        self.a, self.b = 0, 1 \n",
    "        self.count = 0  \n",
    "\n",
    "    def __iter__(self):\n",
    "        return self  \n",
    "\n",
    "    def __next__(self):\n",
    "        if self.count < self.n:\n",
    "          \n",
    "            fib = self.a\n",
    "            self.a, self.b = self.b, self.a + self.b  \n",
    "            self.count += 1\n",
    "            return fib\n",
    "        else:\n",
    "            \n",
    "            raise StopIteration\n",
    "\n",
    "\n",
    "n_terms = 10  \n",
    "fibonacci = FibonacciIterator(n_terms)\n",
    "\n",
    "for num in fibonacci:\n",
    "    print(num)\n"
   ]
  },
  {
   "cell_type": "code",
   "execution_count": null,
   "id": "7e4816d7-c762-4e3b-9e17-53b92edcf7ba",
   "metadata": {},
   "outputs": [],
   "source": [
    " 6. Write a generator function in Python that yields the powers of 2 up to a given exponent."
   ]
  },
  {
   "cell_type": "code",
   "execution_count": null,
   "id": "0610f448-6c71-4c2d-92d3-eb2cd1f7d3a0",
   "metadata": {},
   "outputs": [],
   "source": [
    "def powers_of_two(exponent):\n",
    "    for i in range(exponent + 1):  \n",
    "        yield 2 ** i \n",
    "\n",
    "\n",
    "exponent = 5 \n",
    "for power in powers_of_two(exponent):\n",
    "    print(power)\n"
   ]
  },
  {
   "cell_type": "code",
   "execution_count": null,
   "id": "6335639c-e8da-498e-8a9f-10e532126f9c",
   "metadata": {},
   "outputs": [],
   "source": [
    "8. Use a lambda function in Python to sort a list of tuples based on the second element of each tuple."
   ]
  },
  {
   "cell_type": "code",
   "execution_count": 35,
   "id": "92d623f3-bb61-4ee5-b2ec-480c694ba50b",
   "metadata": {},
   "outputs": [
    {
     "name": "stdout",
     "output_type": "stream",
     "text": [
      "[(2, 1), (3, 2), (1, 5), (4, 7)]\n"
     ]
    }
   ],
   "source": [
    "tuples = [(1, 5), (3, 2), (4, 7), (2, 1)]\n",
    "sorted_tuples = sorted(tuples, key=lambda x: x[1])\n",
    "print(sorted_tuples)"
   ]
  },
  {
   "cell_type": "code",
   "execution_count": null,
   "id": "f3b7b9a7-2ee7-46d6-9bc6-7df5a095dbc4",
   "metadata": {},
   "outputs": [],
   "source": [
    " 9. Write a Python program that uses `map()` to convert a list of temperatures from Celsius to Fahrenheit."
   ]
  },
  {
   "cell_type": "code",
   "execution_count": 41,
   "id": "78c029b5-66b9-41d7-8a84-23ee447f998a",
   "metadata": {},
   "outputs": [
    {
     "name": "stdout",
     "output_type": "stream",
     "text": [
      "[32.0, 68.0, 98.6, 212.0, 23.0]\n"
     ]
    }
   ],
   "source": [
    "def celsius_to_fahrenheit(celsius):\n",
    "    return (celsius * 9/5) + 32\n",
    "celsius_temperatures = [0, 20, 37, 100, -5]\n",
    "fahrenheit_temperatures = list(map(celsius_to_fahrenheit, celsius_temperatures))\n",
    "print(fahrenheit_temperatures)\n"
   ]
  },
  {
   "cell_type": "code",
   "execution_count": null,
   "id": "bd8d0ff2-1b5e-4db7-8aaf-eda1a6c527df",
   "metadata": {},
   "outputs": [],
   "source": [
    " 10. Create a Python program that uses `filter()` to remove all the vowels from a given string."
   ]
  },
  {
   "cell_type": "code",
   "execution_count": null,
   "id": "edfe7d50-7383-4120-8321-0448c1f0bc1e",
   "metadata": {},
   "outputs": [],
   "source": [
    "def is_not_vowel(char):\n",
    "    vowels = \"aeiouAEIOU\"\n",
    "    return char not in vowels\n",
    "\n",
    "\n",
    "input_string = \"Hello, World!\"\n",
    "filtered_string = ''.join(filter(is_not_vowel, input_string))\n",
    "print(filtered_string)\n"
   ]
  },
  {
   "cell_type": "code",
   "execution_count": null,
   "id": "fbfbf4aa-70a0-4b41-8506-97ee70bbea04",
   "metadata": {},
   "outputs": [],
   "source": []
  },
  {
   "cell_type": "code",
   "execution_count": null,
   "id": "90ebf4c9-97ce-4349-98f2-d2cef94bd931",
   "metadata": {},
   "outputs": [],
   "source": []
  }
 ],
 "metadata": {
  "kernelspec": {
   "display_name": "Python 3 (ipykernel)",
   "language": "python",
   "name": "python3"
  },
  "language_info": {
   "codemirror_mode": {
    "name": "ipython",
    "version": 3
   },
   "file_extension": ".py",
   "mimetype": "text/x-python",
   "name": "python",
   "nbconvert_exporter": "python",
   "pygments_lexer": "ipython3",
   "version": "3.13.0"
  }
 },
 "nbformat": 4,
 "nbformat_minor": 5
}
